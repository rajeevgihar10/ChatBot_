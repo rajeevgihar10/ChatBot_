{
 "cells": [
  {
   "cell_type": "markdown",
   "id": "e53b99fa",
   "metadata": {},
   "source": [
    "## ChatBots: AI IN ACTION"
   ]
  },
  {
   "cell_type": "markdown",
   "id": "f42e74cd",
   "metadata": {},
   "source": [
    "ChatBots are one of the most frequently seen AI around us in our daily life!"
   ]
  },
  {
   "cell_type": "markdown",
   "id": "77f68e3e",
   "metadata": {},
   "source": [
    "The first chatbot was Eliza created in 1966 by key method of operation involves the recognition of clue words or phrases\n",
    "in the input and the output of the corresponding pre-prepared or pre-programmed that can move the conversation forward in an apparently meaningful way. "
   ]
  },
  {
   "cell_type": "markdown",
   "id": "341fffa7",
   "metadata": {},
   "source": [
    "Several comapnies use chatbots for their internal and external use-\n",
    "\n",
    "Messaging Apps: FB bots of companies, Hike- Natasha\n",
    "\n",
    "Customer Service: Swiggy Bot, zomato Bot\n",
    "\n",
    "Company internal use: Internal HR bot, internal Finance tool bot"
   ]
  },
  {
   "cell_type": "markdown",
   "id": "a3007bb6",
   "metadata": {},
   "source": [
    "Simple chatbots: they r task-specific.\n",
    "\n",
    "Smart chatbot: AI enabledsmart chatbots r designed to simulate near-human interactions with customers\n",
    "\n",
    "Hybrid chatbots: combination of simple and smart chatbots.\n",
    "\n",
    "Social Messaging chatbots"
   ]
  },
  {
   "cell_type": "markdown",
   "id": "86e05937",
   "metadata": {},
   "source": [
    "Rule Based chatbots: chatbots react to questions or statements that match their database with appropriate answer or action.\n",
    "                      The more resources are made available, the more capable the system becomes.\n",
    "                      \n",
    "Self-learning chatbots: A chatbot of this kind is artifically intelligent.\n",
    "                        By learning from past interactions, the bot will will gradually grow in scope.\n",
    "                        This method leads to far more capable and sophisticated chatbots, but also requires much more                               programming effort."
   ]
  },
  {
   "cell_type": "code",
   "execution_count": null,
   "id": "8dfc21b1",
   "metadata": {},
   "outputs": [],
   "source": [
    "# Rule-Based Chatbot:"
   ]
  },
  {
   "cell_type": "code",
   "execution_count": null,
   "id": "54779895",
   "metadata": {},
   "outputs": [],
   "source": [
    "import re\n",
    "import random"
   ]
  },
  {
   "cell_type": "code",
   "execution_count": null,
   "id": "b765e008",
   "metadata": {},
   "outputs": [],
   "source": [
    "import random\n",
    "import re\n",
    "\n",
    "class RuleBot:\n",
    "    #### Potential Negative Responses\n",
    "    negative_responses = (\"no\", \"nope\", \"exit\", \"goodbye\", \"bye\", \"later\")\n",
    "    ### Random starter question\n",
    "    random_questions = (\n",
    "        \"Why are you here?\",\n",
    "        \"Are there many humans like you?\",\n",
    "        \"Is there intelligent life on this planet?\",\n",
    "        \"Does Earth have a leader?\",\n",
    "        \"What planets have you visited?\",\n",
    "        \"what technology do you have on this planet?\"\n",
    "    )\n",
    "    \n",
    "    def __init__(self):\n",
    "        self.alienbabble = {\n",
    "            'describe_planet_intent': r'.*\\s*your planet.*',\n",
    "            'answer_why_intent': r'why\\sare.*',\n",
    "            'about_intellipat': r'.*\\s*intellipaat', \n",
    "            'about_session': r'.*\\s*Session'\n",
    "        }\n",
    "\n",
    "    def greet(self):\n",
    "        self.name = input(\"what is your name?\\n\")\n",
    "        will_help = input(\n",
    "            f\"Hi {self.name}, I am Rule-Bot. will you help me learn about your planet?\\n\")\n",
    "        if will_help.lower() in self.negative_responses:\n",
    "            print(\"Ok, have a nice Earth day!\")\n",
    "            return\n",
    "        self.chat()\n",
    "\n",
    "    def make_exit(self, reply):\n",
    "        for command in self.exit_commands:\n",
    "            if reply == command:\n",
    "                print(\"Okay, have a nice Earth day!\")\n",
    "                return True\n",
    "        return False\n",
    "\n",
    "    def chat(self):\n",
    "        reply = input(random.choice(self.random_questions)).lower()\n",
    "        while not self.make_exit(reply):\n",
    "            reply = input(self.match_reply(reply))\n",
    "\n",
    "    def match_reply(self, reply):\n",
    "        found_match = None\n",
    "        for key, value in self.alienbabble.items():\n",
    "            intent = key\n",
    "            regex_pattern = value\n",
    "            found_match = re.match(regex_pattern, reply)\n",
    "            if found_match and intent == 'describe_planet_intent':\n",
    "                return self.describe_planet_intent()\n",
    "            elif found_match and intent == 'answer_why_intent':\n",
    "                return self.answer_why_intent()\n",
    "            elif found_match and intent == 'about_intellipat':\n",
    "                return self.about_intellipat()\n",
    "            elif found_match and intent == 'about_session':\n",
    "                return self.about_session()\n",
    "        if not found_match:\n",
    "            return self.no_match_intent()\n",
    "\n",
    "    def describe_planet_intent(self):\n",
    "        responses = (\"My planet is a utopia of diverse organisms and species.\\n\", \n",
    "                     \"I am from Opidipus, the capital of the Wayward Galaxies.\\n\")\n",
    "        return random.choice(responses)\n",
    "\n",
    "    def answer_why_intent(self):\n",
    "        responses = (\"I come in peace.\\n\", \"I am here to collect data on your planet and its inhabitants.\\n\",\n",
    "                   \"I heard the coffee is good.\\n\")\n",
    "        return random.choice(responses)\n",
    "\n",
    "    def about_intellipat(self):\n",
    "        responses = (\"Intellipaat is the world's largest professional educational company.\\n\", \n",
    "                     \"Intellipaat will make you learn concepts in a way that never leaves your mind. \"\n",
    "                     \"Intellipaat is where your career and skill grows.\\n\")\n",
    "        return random.choice(responses)\n",
    "    \n",
    "    def about_session(self):\n",
    "        responses = ('Session is on 14th Aug 2023\\n', 'Session was cool!!')\n",
    "        return random.choice(responses)\n",
    "    \n",
    "\n",
    "    def no_match_intent(self):\n",
    "        responses = (\n",
    "            \"Please tell me more.\\n\", \"Tell me more!\\n\", \"Why do you say that?\\n\", \"I see. Can you elaborate?\\n\",\n",
    "            \"Interesting. Can you tell me more?\\n\", \"I see. How do you think?\\n\", \"Why?\\n\",\n",
    "            \"How do you think I feel when you say that?\\n\"\n",
    "        ) \n",
    "        return random.choice(responses)\n",
    "\n",
    "# Instantiate and start the conversation with RuleBot\n",
    "AlienBot = RuleBot()\n",
    "AlienBot.greet()"
   ]
  },
  {
   "cell_type": "code",
   "execution_count": null,
   "id": "249f09b4",
   "metadata": {},
   "outputs": [],
   "source": [
    "# Self-learning chatbots:\n",
    "## Stemming is a process of finding similarities between words with same roots words\n",
    "## Lemmatization refers to returning the base word\n",
    "## Bag of words: collection of words post stemming and lemmatization"
   ]
  },
  {
   "cell_type": "code",
   "execution_count": null,
   "id": "c1d2deb6",
   "metadata": {},
   "outputs": [],
   "source": []
  },
  {
   "cell_type": "code",
   "execution_count": null,
   "id": "c3cdac64",
   "metadata": {},
   "outputs": [],
   "source": []
  },
  {
   "cell_type": "code",
   "execution_count": null,
   "id": "7b28a927",
   "metadata": {},
   "outputs": [],
   "source": []
  },
  {
   "cell_type": "code",
   "execution_count": null,
   "id": "e8102b3e",
   "metadata": {},
   "outputs": [],
   "source": []
  },
  {
   "cell_type": "code",
   "execution_count": null,
   "id": "9bf7b4b0",
   "metadata": {},
   "outputs": [],
   "source": []
  }
 ],
 "metadata": {
  "kernelspec": {
   "display_name": "Python 3 (ipykernel)",
   "language": "python",
   "name": "python3"
  },
  "language_info": {
   "codemirror_mode": {
    "name": "ipython",
    "version": 3
   },
   "file_extension": ".py",
   "mimetype": "text/x-python",
   "name": "python",
   "nbconvert_exporter": "python",
   "pygments_lexer": "ipython3",
   "version": "3.9.13"
  }
 },
 "nbformat": 4,
 "nbformat_minor": 5
}
